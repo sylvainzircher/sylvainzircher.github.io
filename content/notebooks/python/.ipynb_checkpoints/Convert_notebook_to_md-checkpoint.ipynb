{
 "cells": [
  {
   "cell_type": "markdown",
   "metadata": {},
   "source": [
    "## Script that converts ipython notebooks into markdown files"
   ]
  },
  {
   "cell_type": "code",
   "execution_count": 1,
   "metadata": {},
   "outputs": [],
   "source": [
    "import os"
   ]
  },
  {
   "cell_type": "markdown",
   "metadata": {},
   "source": [
    "Execute the command (a string) in a subshell. This is implemented by calling the Standard C function system(), and has the same limitations. Changes to sys.stdin, etc. are not reflected in the environment of the executed command.\n",
    "\n",
    "On Unix, the return value is the exit status of the process encoded in the format specified for wait(). Note that POSIX does not specify the meaning of the return value of the C system() function, so the return value of the Python function is system-dependent."
   ]
  },
  {
   "cell_type": "code",
   "execution_count": null,
   "metadata": {},
   "outputs": [
    {
     "name": "stdout",
     "output_type": "stream",
     "text": [
      "reshape_from_wide_to_long.ipynb - Converted to .md\n"
     ]
    }
   ],
   "source": [
    "# Convert to Markdown any python ipython files in the current directory\n",
    "full_path = os.getcwd()\n",
    "for file in os.listdir(full_path):\n",
    "    if file.split(\".\")[1] == 'ipynb':\n",
    "        if file != 'Convert_notebook_to_md.ipynb':\n",
    "            print(\"{} - Converted to .md\".format(file))\n",
    "            os.system(\"jupyter nbconvert --to markdown {}\".format(file))"
   ]
  },
  {
   "cell_type": "code",
   "execution_count": null,
   "metadata": {},
   "outputs": [],
   "source": []
  }
 ],
 "metadata": {
  "kernelspec": {
   "display_name": "Python 3",
   "language": "python",
   "name": "python3"
  },
  "language_info": {
   "codemirror_mode": {
    "name": "ipython",
    "version": 3
   },
   "file_extension": ".py",
   "mimetype": "text/x-python",
   "name": "python",
   "nbconvert_exporter": "python",
   "pygments_lexer": "ipython3",
   "version": "3.6.1"
  }
 },
 "nbformat": 4,
 "nbformat_minor": 2
}
